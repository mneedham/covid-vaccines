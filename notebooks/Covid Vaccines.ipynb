{
 "cells": [
  {
   "cell_type": "markdown",
   "id": "f845f0da",
   "metadata": {},
   "source": [
    "# Covid Vaccination in England by region and age group"
   ]
  },
  {
   "cell_type": "code",
   "execution_count": 71,
   "id": "a5214309",
   "metadata": {},
   "outputs": [],
   "source": [
    "import sys\n",
    "sys.path.append(\"..\")\n",
    "\n",
    "import pandas as pd\n",
    "import altair as alt\n",
    "import data as dt\n",
    "from dateutil import parser\n",
    "\n",
    "import seaborn as sns\n"
   ]
  },
  {
   "cell_type": "code",
   "execution_count": 30,
   "id": "54e9fcf1",
   "metadata": {},
   "outputs": [],
   "source": [
    "latest_weekly_date = parser.parse(\"2021-04-22\")\n",
    "spreadsheet = f\"../data/COVID-19-weekly-announced-vaccinations-{latest_weekly_date.strftime('%-d-%B-%Y')}.xlsx\""
   ]
  },
  {
   "cell_type": "code",
   "execution_count": 31,
   "id": "38ae059d",
   "metadata": {},
   "outputs": [
    {
     "data": {
      "text/html": [
       "<div>\n",
       "<style scoped>\n",
       "    .dataframe tbody tr th:only-of-type {\n",
       "        vertical-align: middle;\n",
       "    }\n",
       "\n",
       "    .dataframe tbody tr th {\n",
       "        vertical-align: top;\n",
       "    }\n",
       "\n",
       "    .dataframe thead th {\n",
       "        text-align: right;\n",
       "    }\n",
       "</style>\n",
       "<table border=\"1\" class=\"dataframe\">\n",
       "  <thead>\n",
       "    <tr style=\"text-align: right;\">\n",
       "      <th></th>\n",
       "      <th>LTLA Code</th>\n",
       "      <th>LTLA Name</th>\n",
       "      <th>Under 45</th>\n",
       "      <th>45-49</th>\n",
       "      <th>50-54</th>\n",
       "      <th>55-59</th>\n",
       "      <th>60-64</th>\n",
       "      <th>65-69</th>\n",
       "      <th>70-74</th>\n",
       "      <th>75-79</th>\n",
       "      <th>80+</th>\n",
       "    </tr>\n",
       "  </thead>\n",
       "  <tbody>\n",
       "    <tr>\n",
       "      <th>14</th>\n",
       "      <td>E07000032</td>\n",
       "      <td>Amber Valley</td>\n",
       "      <td>20.710925</td>\n",
       "      <td>83.505741</td>\n",
       "      <td>90.6881</td>\n",
       "      <td>90.973661</td>\n",
       "      <td>93.232649</td>\n",
       "      <td>95.570698</td>\n",
       "      <td>96.711963</td>\n",
       "      <td>97.804796</td>\n",
       "      <td>97.197598</td>\n",
       "    </tr>\n",
       "    <tr>\n",
       "      <th>15</th>\n",
       "      <td>E07000170</td>\n",
       "      <td>Ashfield</td>\n",
       "      <td>19.840826</td>\n",
       "      <td>70.251111</td>\n",
       "      <td>87.901663</td>\n",
       "      <td>90.642105</td>\n",
       "      <td>91.379967</td>\n",
       "      <td>94.311954</td>\n",
       "      <td>95.65667</td>\n",
       "      <td>96.470588</td>\n",
       "      <td>96.369114</td>\n",
       "    </tr>\n",
       "    <tr>\n",
       "      <th>16</th>\n",
       "      <td>E07000171</td>\n",
       "      <td>Bassetlaw</td>\n",
       "      <td>19.617013</td>\n",
       "      <td>73.056929</td>\n",
       "      <td>87.851962</td>\n",
       "      <td>90.432421</td>\n",
       "      <td>92.098765</td>\n",
       "      <td>94.227747</td>\n",
       "      <td>96.442151</td>\n",
       "      <td>96.933875</td>\n",
       "      <td>96.920755</td>\n",
       "    </tr>\n",
       "    <tr>\n",
       "      <th>17</th>\n",
       "      <td>E07000129</td>\n",
       "      <td>Blaby</td>\n",
       "      <td>20.70238</td>\n",
       "      <td>77.088552</td>\n",
       "      <td>89.326138</td>\n",
       "      <td>90.098742</td>\n",
       "      <td>92.064951</td>\n",
       "      <td>94.401756</td>\n",
       "      <td>96.67184</td>\n",
       "      <td>97.177513</td>\n",
       "      <td>96.244375</td>\n",
       "    </tr>\n",
       "    <tr>\n",
       "      <th>18</th>\n",
       "      <td>E07000033</td>\n",
       "      <td>Bolsover</td>\n",
       "      <td>19.286211</td>\n",
       "      <td>72.523607</td>\n",
       "      <td>87.753264</td>\n",
       "      <td>90.084355</td>\n",
       "      <td>92.479523</td>\n",
       "      <td>93.790341</td>\n",
       "      <td>95.613048</td>\n",
       "      <td>97.542155</td>\n",
       "      <td>97.002794</td>\n",
       "    </tr>\n",
       "  </tbody>\n",
       "</table>\n",
       "</div>"
      ],
      "text/plain": [
       "    LTLA Code     LTLA Name   Under 45      45-49      50-54      55-59  \\\n",
       "14  E07000032  Amber Valley  20.710925  83.505741    90.6881  90.973661   \n",
       "15  E07000170      Ashfield  19.840826  70.251111  87.901663  90.642105   \n",
       "16  E07000171     Bassetlaw  19.617013  73.056929  87.851962  90.432421   \n",
       "17  E07000129         Blaby   20.70238  77.088552  89.326138  90.098742   \n",
       "18  E07000033      Bolsover  19.286211  72.523607  87.753264  90.084355   \n",
       "\n",
       "        60-64      65-69      70-74      75-79        80+  \n",
       "14  93.232649  95.570698  96.711963  97.804796  97.197598  \n",
       "15  91.379967  94.311954   95.65667  96.470588  96.369114  \n",
       "16  92.098765  94.227747  96.442151  96.933875  96.920755  \n",
       "17  92.064951  94.401756   96.67184  97.177513  96.244375  \n",
       "18  92.479523  93.790341  95.613048  97.542155  97.002794  "
      ]
     },
     "execution_count": 31,
     "metadata": {},
     "output_type": "execute_result"
    }
   ],
   "source": [
    "vaccinations = dt.vaccinations_dataframe(spreadsheet)    \n",
    "population = dt.population_dataframe(spreadsheet)    \n",
    "combined = dt.compute_all_vaccination_rates(vaccinations, population)\n",
    "combined.head()"
   ]
  },
  {
   "cell_type": "code",
   "execution_count": 74,
   "id": "41315e59",
   "metadata": {},
   "outputs": [
    {
     "data": {
      "text/plain": [
       "<seaborn.axisgrid.FacetGrid at 0x7fc93867b7c0>"
      ]
     },
     "execution_count": 74,
     "metadata": {},
     "output_type": "execute_result"
    },
    {
     "data": {
      "image/png": "[encoded data removed]",
      "text/plain": [
       "<Figure size 482.625x360 with 1 Axes>"
      ]
     },
     "metadata": {
      "needs_background": "light"
     },
     "output_type": "display_data"
    }
   ],
   "source": [
    "selected_areas = [\"Sutton\", \"South Derbyshire\", \"Waverley\"]\n",
    "\n",
    "local_area = combined.loc[combined[\"LTLA Name\"].isin(selected_areas)].drop([\"LTLA Code\"], axis=1)\n",
    "local_area_absolute = vaccinations.loc[vaccinations[\"LTLA Name\"].isin(selected_areas)].drop([\"LTLA Code\"], axis=1)\n",
    "local_area_population = population.loc[population[\"LTLA Name\"].isin(selected_areas)].drop([\"LTLA Code\"], axis=1)\n",
    "\n",
    "local_area.rename(columns={\"Under 45\": \"<45\"}, inplace=True)\n",
    "melted_local_area = local_area.melt(value_vars=local_area.columns.drop([\"LTLA Name\"]), id_vars=[\"LTLA Name\"])\n",
    "melted_local_area = melted_local_area.rename(columns={\"value\": \"Percentage\", \"variable\": \"Age\"})    \n",
    "melted_local_area.reset_index(level=0, inplace=True)\n",
    "\n",
    "sns.catplot(y=\"Age\", \n",
    "            x=\"Percentage\", \n",
    "            hue=\"LTLA Name\", \n",
    "            kind=\"bar\",\n",
    "            edgecolor=\".6\",\n",
    "            data=melted_local_area)"
   ]
  }
 ],
 "metadata": {
  "kernelspec": {
   "display_name": "Python 3",
   "language": "python",
   "name": "python3"
  },
  "language_info": {
   "codemirror_mode": {
    "name": "ipython",
    "version": 3
   },
   "file_extension": ".py",
   "mimetype": "text/x-python",
   "name": "python",
   "nbconvert_exporter": "python",
   "pygments_lexer": "ipython3",
   "version": "3.8.5"
  }
 },
 "nbformat": 4,
 "nbformat_minor": 5
}
