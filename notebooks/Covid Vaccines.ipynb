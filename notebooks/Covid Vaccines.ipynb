{
 "cells": [
  {
   "cell_type": "markdown",
   "id": "f845f0da",
   "metadata": {},
   "source": [
    "# Covid Vaccination in England by region and age group"
   ]
  },
  {
   "cell_type": "code",
   "execution_count": 71,
   "id": "a5214309",
   "metadata": {},
   "outputs": [],
   "source": [
    "import sys\n",
    "sys.path.append(\"..\")\n",
    "\n",
    "import pandas as pd\n",
    "import altair as alt\n",
    "import data as dt\n",
    "from dateutil import parser\n",
    "\n",
    "import seaborn as sns\n"
   ]
  },
  {
   "cell_type": "code",
   "execution_count": 30,
   "id": "54e9fcf1",
   "metadata": {},
   "outputs": [],
   "source": [
    "latest_weekly_date = parser.parse(\"2021-04-22\")\n",
    "spreadsheet = f\"../data/COVID-19-weekly-announced-vaccinations-{latest_weekly_date.strftime('%-d-%B-%Y')}.xlsx\""
   ]
  },
  {
   "cell_type": "code",
   "execution_count": 31,
   "id": "38ae059d",
   "metadata": {},
   "outputs": [
    {
     "data": {
      "text/html": [
       "<div>\n",
       "<style scoped>\n",
       "    .dataframe tbody tr th:only-of-type {\n",
       "        vertical-align: middle;\n",
       "    }\n",
       "\n",
       "    .dataframe tbody tr th {\n",
       "        vertical-align: top;\n",
       "    }\n",
       "\n",
       "    .dataframe thead th {\n",
       "        text-align: right;\n",
       "    }\n",
       "</style>\n",
       "<table border=\"1\" class=\"dataframe\">\n",
       "  <thead>\n",
       "    <tr style=\"text-align: right;\">\n",
       "      <th></th>\n",
       "      <th>LTLA Code</th>\n",
       "      <th>LTLA Name</th>\n",
       "      <th>Under 45</th>\n",
       "      <th>45-49</th>\n",
       "      <th>50-54</th>\n",
       "      <th>55-59</th>\n",
       "      <th>60-64</th>\n",
       "      <th>65-69</th>\n",
       "      <th>70-74</th>\n",
       "      <th>75-79</th>\n",
       "      <th>80+</th>\n",
       "    </tr>\n",
       "  </thead>\n",
       "  <tbody>\n",
       "    <tr>\n",
       "      <th>14</th>\n",
       "      <td>E07000032</td>\n",
       "      <td>Amber Valley</td>\n",
       "      <td>20.710925</td>\n",
       "      <td>83.505741</td>\n",
       "      <td>90.6881</td>\n",
       "      <td>90.973661</td>\n",
       "      <td>93.232649</td>\n",
       "      <td>95.570698</td>\n",
       "      <td>96.711963</td>\n",
       "      <td>97.804796</td>\n",
       "      <td>97.197598</td>\n",
       "    </tr>\n",
       "    <tr>\n",
       "      <th>15</th>\n",
       "      <td>E07000170</td>\n",
       "      <td>Ashfield</td>\n",
       "      <td>19.840826</td>\n",
       "      <td>70.251111</td>\n",
       "      <td>87.901663</td>\n",
       "      <td>90.642105</td>\n",
       "      <td>91.379967</td>\n",
       "      <td>94.311954</td>\n",
       "      <td>95.65667</td>\n",
       "      <td>96.470588</td>\n",
       "      <td>96.369114</td>\n",
       "    </tr>\n",
       "    <tr>\n",
       "      <th>16</th>\n",
       "      <td>E07000171</td>\n",
       "      <td>Bassetlaw</td>\n",
       "      <td>19.617013</td>\n",
       "      <td>73.056929</td>\n",
       "      <td>87.851962</td>\n",
       "      <td>90.432421</td>\n",
       "      <td>92.098765</td>\n",
       "      <td>94.227747</td>\n",
       "      <td>96.442151</td>\n",
       "      <td>96.933875</td>\n",
       "      <td>96.920755</td>\n",
       "    </tr>\n",
       "    <tr>\n",
       "      <th>17</th>\n",
       "      <td>E07000129</td>\n",
       "      <td>Blaby</td>\n",
       "      <td>20.70238</td>\n",
       "      <td>77.088552</td>\n",
       "      <td>89.326138</td>\n",
       "      <td>90.098742</td>\n",
       "      <td>92.064951</td>\n",
       "      <td>94.401756</td>\n",
       "      <td>96.67184</td>\n",
       "      <td>97.177513</td>\n",
       "      <td>96.244375</td>\n",
       "    </tr>\n",
       "    <tr>\n",
       "      <th>18</th>\n",
       "      <td>E07000033</td>\n",
       "      <td>Bolsover</td>\n",
       "      <td>19.286211</td>\n",
       "      <td>72.523607</td>\n",
       "      <td>87.753264</td>\n",
       "      <td>90.084355</td>\n",
       "      <td>92.479523</td>\n",
       "      <td>93.790341</td>\n",
       "      <td>95.613048</td>\n",
       "      <td>97.542155</td>\n",
       "      <td>97.002794</td>\n",
       "    </tr>\n",
       "  </tbody>\n",
       "</table>\n",
       "</div>"
      ],
      "text/plain": [
       "    LTLA Code     LTLA Name   Under 45      45-49      50-54      55-59  \\\n",
       "14  E07000032  Amber Valley  20.710925  83.505741    90.6881  90.973661   \n",
       "15  E07000170      Ashfield  19.840826  70.251111  87.901663  90.642105   \n",
       "16  E07000171     Bassetlaw  19.617013  73.056929  87.851962  90.432421   \n",
       "17  E07000129         Blaby   20.70238  77.088552  89.326138  90.098742   \n",
       "18  E07000033      Bolsover  19.286211  72.523607  87.753264  90.084355   \n",
       "\n",
       "        60-64      65-69      70-74      75-79        80+  \n",
       "14  93.232649  95.570698  96.711963  97.804796  97.197598  \n",
       "15  91.379967  94.311954   95.65667  96.470588  96.369114  \n",
       "16  92.098765  94.227747  96.442151  96.933875  96.920755  \n",
       "17  92.064951  94.401756   96.67184  97.177513  96.244375  \n",
       "18  92.479523  93.790341  95.613048  97.542155  97.002794  "
      ]
     },
     "execution_count": 31,
     "metadata": {},
     "output_type": "execute_result"
    }
   ],
   "source": [
    "vaccinations = dt.vaccinations_dataframe(spreadsheet)    \n",
    "population = dt.population_dataframe(spreadsheet)    \n",
    "combined = dt.compute_all_vaccination_rates(vaccinations, population)\n",
    "combined.head()"
   ]
  },
  {
   "cell_type": "code",
   "execution_count": 76,
   "id": "41315e59",
   "metadata": {},
   "outputs": [
    {
     "data": {
      "text/html": [
       "\n",
       "<div id=\"altair-viz-152b3f796555494899c976fc9366bcd9\"></div>\n",
       "<script type=\"text/javascript\">\n",
       "  (function(spec, embedOpt){\n",
       "    let outputDiv = document.currentScript.previousElementSibling;\n",
       "    if (outputDiv.id !== \"altair-viz-152b3f796555494899c976fc9366bcd9\") {\n",
       "      outputDiv = document.getElementById(\"altair-viz-152b3f796555494899c976fc9366bcd9\");\n",
       "    }\n",
       "    const paths = {\n",
       "      \"vega\": \"https://cdn.jsdelivr.net/npm//vega@5?noext\",\n",
       "      \"vega-lib\": \"https://cdn.jsdelivr.net/npm//vega-lib?noext\",\n",
       "      \"vega-lite\": \"https://cdn.jsdelivr.net/npm//vega-lite@4.8.1?noext\",\n",
       "      \"vega-embed\": \"https://cdn.jsdelivr.net/npm//vega-embed@6?noext\",\n",
       "    };\n",
       "\n",
       "    function loadScript(lib) {\n",
       "      return new Promise(function(resolve, reject) {\n",
       "        var s = document.createElement('script');\n",
       "        s.src = paths[lib];\n",
       "        s.async = true;\n",
       "        s.onload = () => resolve(paths[lib]);\n",
       "        s.onerror = () => reject(`Error loading script: ${paths[lib]}`);\n",
       "        document.getElementsByTagName(\"head\")[0].appendChild(s);\n",
       "      });\n",
       "    }\n",
       "\n",
       "    function showError(err) {\n",
       "      outputDiv.innerHTML = `<div class=\"error\" style=\"color:red;\">${err}</div>`;\n",
       "      throw err;\n",
       "    }\n",
       "\n",
       "    function displayChart(vegaEmbed) {\n",
       "      vegaEmbed(outputDiv, spec, embedOpt)\n",
       "        .catch(err => showError(`Javascript Error: ${err.message}<br>This usually means there's a typo in your chart specification. See the javascript console for the full traceback.`));\n",
       "    }\n",
       "\n",
       "    if(typeof define === \"function\" && define.amd) {\n",
       "      requirejs.config({paths});\n",
       "      require([\"vega-embed\"], displayChart, err => showError(`Error loading script: ${err.message}`));\n",
       "    } else if (typeof vegaEmbed === \"function\") {\n",
       "      displayChart(vegaEmbed);\n",
       "    } else {\n",
       "      loadScript(\"vega\")\n",
       "        .then(() => loadScript(\"vega-lite\"))\n",
       "        .then(() => loadScript(\"vega-embed\"))\n",
       "        .catch(showError)\n",
       "        .then(() => displayChart(vegaEmbed));\n",
       "    }\n",
       "  })({\"config\": {\"view\": {\"continuousWidth\": 400, \"continuousHeight\": 300}}, \"data\": {\"name\": \"data-e5f3770bd8ccc20e468054595e38a5b2\"}, \"mark\": \"bar\", \"encoding\": {\"color\": {\"type\": \"nominal\", \"field\": \"LTLA Name\", \"legend\": null}, \"row\": {\"type\": \"nominal\", \"field\": \"Age\", \"sort\": [\"index\"], \"title\": null}, \"tooltip\": [{\"type\": \"nominal\", \"field\": \"Age\"}, {\"type\": \"quantitative\", \"field\": \"Percentage\", \"format\": \".2f\"}], \"x\": {\"type\": \"quantitative\", \"field\": \"Percentage\", \"scale\": {\"domain\": [0, 100]}}, \"y\": {\"type\": \"nominal\", \"axis\": {\"labels\": true, \"ticks\": false}, \"field\": \"LTLA Name\", \"sort\": [\"index\"], \"title\": null}}, \"$schema\": \"https://vega.github.io/schema/vega-lite/v4.8.1.json\", \"datasets\": {\"data-e5f3770bd8ccc20e468054595e38a5b2\": [{\"index\": 0, \"LTLA Name\": \"South Derbyshire\", \"Age\": \"<45\", \"Percentage\": 22.20290637816672}, {\"index\": 1, \"LTLA Name\": \"Sutton\", \"Age\": \"<45\", \"Percentage\": 15.12928787798669}, {\"index\": 2, \"LTLA Name\": \"South Derbyshire\", \"Age\": \"45-49\", \"Percentage\": 74.08933794203669}, {\"index\": 3, \"LTLA Name\": \"Sutton\", \"Age\": \"45-49\", \"Percentage\": 50.45687134502924}, {\"index\": 4, \"LTLA Name\": \"South Derbyshire\", \"Age\": \"50-54\", \"Percentage\": 91.89782709200185}, {\"index\": 5, \"LTLA Name\": \"Sutton\", \"Age\": \"50-54\", \"Percentage\": 81.45217890639954}, {\"index\": 6, \"LTLA Name\": \"South Derbyshire\", \"Age\": \"55-59\", \"Percentage\": 91.88919391065636}, {\"index\": 7, \"LTLA Name\": \"Sutton\", \"Age\": \"55-59\", \"Percentage\": 84.82511704764528}, {\"index\": 8, \"LTLA Name\": \"South Derbyshire\", \"Age\": \"60-64\", \"Percentage\": 93.85937979735954}, {\"index\": 9, \"LTLA Name\": \"Sutton\", \"Age\": \"60-64\", \"Percentage\": 86.38135743398901}, {\"index\": 10, \"LTLA Name\": \"South Derbyshire\", \"Age\": \"65-69\", \"Percentage\": 95.25936104431467}, {\"index\": 11, \"LTLA Name\": \"Sutton\", \"Age\": \"65-69\", \"Percentage\": 88.94893570089334}, {\"index\": 12, \"LTLA Name\": \"South Derbyshire\", \"Age\": \"70-74\", \"Percentage\": 96.78834678834679}, {\"index\": 13, \"LTLA Name\": \"Sutton\", \"Age\": \"70-74\", \"Percentage\": 92.1916388345042}, {\"index\": 14, \"LTLA Name\": \"South Derbyshire\", \"Age\": \"75-79\", \"Percentage\": 97.52781211372064}, {\"index\": 15, \"LTLA Name\": \"Sutton\", \"Age\": \"75-79\", \"Percentage\": 93.18778726198292}, {\"index\": 16, \"LTLA Name\": \"South Derbyshire\", \"Age\": \"80+\", \"Percentage\": 97.48573843228397}, {\"index\": 17, \"LTLA Name\": \"Sutton\", \"Age\": \"80+\", \"Percentage\": 93.35760785611828}]}}, {\"mode\": \"vega-lite\"});\n",
       "</script>"
      ],
      "text/plain": [
       "alt.Chart(...)"
      ]
     },
     "execution_count": 76,
     "metadata": {},
     "output_type": "execute_result"
    }
   ],
   "source": [
    "option = [\"Sutton\", \"South Derbyshire\"]\n",
    "\n",
    "local_area = combined.loc[combined[\"LTLA Name\"].isin(option)].drop([\"LTLA Code\"], axis=1)\n",
    "local_area_absolute = vaccinations.loc[vaccinations[\"LTLA Name\"].isin(option)].drop([\"LTLA Code\"], axis=1)\n",
    "local_area_population = population.loc[population[\"LTLA Name\"].isin(option)].drop([\"LTLA Code\"], axis=1)\n",
    "\n",
    "local_area.rename(columns={\"Under 45\": \"<45\"}, inplace=True)\n",
    "melted_local_area = local_area.melt(value_vars=local_area.columns.drop([\"LTLA Name\"]), id_vars=[\"LTLA Name\"])\n",
    "melted_local_area = melted_local_area.rename(columns={\"value\": \"Percentage\", \"variable\": \"Age\"})    \n",
    "melted_local_area.reset_index(level=0, inplace=True)\n",
    "\n",
    "chart = alt.Chart(melted_local_area).mark_bar().encode(\n",
    "    y=alt.Y('LTLA Name', sort=[\"index\"], axis=alt.Axis(labels=True, ticks=False), title=None),\n",
    "    x=alt.X('Percentage', scale=alt.Scale(domain=[0, 100])),\n",
    "    color=alt.Color('LTLA Name', legend=None ),\n",
    "    row=alt.Row(\"Age\", title=None, sort=[\"index\"]),        \n",
    "    tooltip=[\"Age\", alt.Tooltip('Percentage', format='.2f')] \n",
    ").properties()\n",
    "chart"
   ]
  },
  {
   "cell_type": "code",
   "execution_count": 82,
   "id": "995e578f",
   "metadata": {},
   "outputs": [
    {
     "name": "stderr",
     "output_type": "stream",
     "text": [
      "2021-04-23 18:40:51.874 INFO    tornado.access: 304 GET / (::1) 0.65ms\n",
      "2021-04-23 18:40:51.883 INFO    tornado.access: 304 GET /vega-lite.js (::1) 1.54ms\n",
      "2021-04-23 18:40:51.884 INFO    tornado.access: 304 GET /vega-embed.js (::1) 2.40ms\n",
      "2021-04-23 18:40:51.887 INFO    tornado.access: 304 GET /vega.js (::1) 1.83ms\n"
     ]
    }
   ],
   "source": [
    "chart.save(\"images/by_local_areas.png\")"
   ]
  },
  {
   "cell_type": "markdown",
   "id": "a0350627",
   "metadata": {},
   "source": [
    "### Vaccination rate by age and local area\n",
    "<img align=\"left\" src=\"images/by_local_areas.png\">"
   ]
  }
 ],
 "metadata": {
  "kernelspec": {
   "display_name": "Python 3",
   "language": "python",
   "name": "python3"
  },
  "language_info": {
   "codemirror_mode": {
    "name": "ipython",
    "version": 3
   },
   "file_extension": ".py",
   "mimetype": "text/x-python",
   "name": "python",
   "nbconvert_exporter": "python",
   "pygments_lexer": "ipython3",
   "version": "3.8.5"
  }
 },
 "nbformat": 4,
 "nbformat_minor": 5
}
